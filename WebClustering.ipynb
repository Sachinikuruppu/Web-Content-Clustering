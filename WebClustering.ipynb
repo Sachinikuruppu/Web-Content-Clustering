{
  "nbformat": 4,
  "nbformat_minor": 0,
  "metadata": {
    "colab": {
      "provenance": [],
      "authorship_tag": "ABX9TyN3PsP7/RU6RBKu8vkRIupa",
      "include_colab_link": true
    },
    "kernelspec": {
      "name": "python3",
      "display_name": "Python 3"
    },
    "language_info": {
      "name": "python"
    }
  },
  "cells": [
    {
      "cell_type": "markdown",
      "metadata": {
        "id": "view-in-github",
        "colab_type": "text"
      },
      "source": [
        "<a href=\"https://colab.research.google.com/github/Sachinikuruppu/Web-Content-Clustering/blob/main/WebClustering.ipynb\" target=\"_parent\"><img src=\"https://colab.research.google.com/assets/colab-badge.svg\" alt=\"Open In Colab\"/></a>"
      ]
    },
    {
      "cell_type": "code",
      "execution_count": 1,
      "metadata": {
        "colab": {
          "base_uri": "https://localhost:8080/"
        },
        "id": "2nPnlfwYdliA",
        "outputId": "a0028ea0-6306-44f2-e3a6-840e185c3397"
      },
      "outputs": [
        {
          "output_type": "stream",
          "name": "stderr",
          "text": [
            "[nltk_data] Downloading package punkt to /root/nltk_data...\n",
            "[nltk_data]   Unzipping tokenizers/punkt.zip.\n",
            "[nltk_data] Downloading package stopwords to /root/nltk_data...\n",
            "[nltk_data]   Unzipping corpora/stopwords.zip.\n"
          ]
        }
      ],
      "source": [
        "import pandas as pd\n",
        "from sklearn.feature_extraction.text import CountVectorizer, TfidfVectorizer\n",
        "from sklearn.preprocessing import normalize\n",
        "from nltk.corpus import stopwords\n",
        "from nltk.tokenize import word_tokenize\n",
        "from nltk.stem import PorterStemmer\n",
        "import nltk\n",
        "\n",
        "# Sample emails dataset\n",
        "emails = [\n",
        "    \"Subject:Project Update.\tHi Jane, Just wanted to give you a quick update on the project. We're making good progress and should be able to meet the deadline. Best, John\",\n",
        "    \"Subject:Re: Project Update.\tHi John, Thanks for the update. That's great to hear. Let me know if you need any help. Regards, Jane\",\n",
        "    \"Subject:Team Meeting Reminder.\tHi Team, Just a reminder that we have a meeting scheduled for tomorrow at 10 AM. Please be on time. Thanks, Mark\",\n",
        "    \"Subject:Re: Team Meeting Reminder.\tHi Mark, Noted. I'll be there. Best, Susan\",\n",
        "    \"Subject:Budget Report.\tHi Bob, Attached is the budget report for this quarter. Let me know if you have any questions. Best, Alice\",\n",
        "    \"Subject:Re: Budget Report.\tHi Alice, Thanks for the report. I'll review it and get back to you if I have any questions. Regards, Bob\",\n",
        "    \"Subject:New Marketing Strategy.\tHi David, I've drafted a new marketing strategy. Please review and provide your feedback. Thanks, Carol\",\n",
        "    \"Subject:Re: New Marketing Strategy.\tHi Carol, The new strategy looks good to me. Let's discuss further in our next meeting. Regards, David\",\n",
        "    \"Subject:Website Redesign.\tHi Frank, We're planning a redesign of the company website. Can you send me your ideas by end of this week? Thanks, Eve\",\n",
        "    \"Subject:Re: Website Redesign.\tHi Eve, Sure, I'll send you my ideas by Friday. Best, Frank\",\n",
        "    \"Subject:Client Meeting Recap.\tHi Hannah, Here's a recap of our meeting with the client yesterday. Let me know if I missed anything. Thanks, George\",\n",
        "    \"Subject:Re: Client Meeting Recap.\tHi George, Thanks for the recap. Everything looks good. Best, Hannah\",\n",
        "    \"Subject:Monthly Sales Report.\tHi Julie, The monthly sales report is ready. I've attached it to this email. Regards, Ian\",\n",
        "    \"Subject:Re: Monthly Sales Report.\tHi Ian, Thanks for the report. I'll review it today. Best, Julie\",\n",
        "    \"Subject:Annual Leave Request.\tHi Larry, I'd like to request annual leave from August 1st to August 10th. Please approve. Thanks, Karen\",\n",
        "    \"Subject:Re: Annual Leave Request.\tHi Karen, Your leave request is approved. Have a great vacation. Best, Larry\",\n",
        "    \"Subject:Invoice for Services.\tHi Nancy, Please find attached the invoice for the services rendered last month. Best, Mike\",\n",
        "    \"Subject:Re: Invoice for Services.\tHi Mike, I've received the invoice. I'll process the payment by the end of the week. Thanks, Nancy\",\n",
        "    \"Subject:Product Launch Plan.\tHi Paula, Here's the plan for the upcoming product launch. Please review and provide your feedback. Regards, Oliver\",\n",
        "    \"Subject:Re: Product Launch Plan.\tHi Oliver, The plan looks good. Let's move forward with it. Best, Paula\",\n",
        "    \"Subject:Training Session Confirmation.\tHi Rachel, This is to confirm your training session scheduled for next Monday at 2 PM. Regards, Quinn\",\n",
        "    \"Subject:Re: Training Session Confirmation.\tHi Quinn, Thanks for the confirmation. I'll be there. Best, Rachel\",\n",
        "    \"Subject:Marketing Budget Approval.\tHi Tina, Please review and approve the attached marketing budget for next quarter. Thanks, Sam\",\n",
        "    \"Subject:Re: Marketing Budget Approval.\tHi Sam, The budget looks good to me. Approved. Regards, Tina\",\n",
        "    \"Subject:Partnership Proposal.\tHi Victor, We're interested in a potential partnership with your company. Please review the attached proposal. Best, Ursula\",\n",
        "    \"Subject:Re: Partnership Proposal.\tHi Ursula, Thank you for the proposal. We're interested as well. Let's set up a meeting to discuss further. Regards, Victor\",\n",
        "    \"Subject:Project Timeline.\tHi Xena, Attached is the timeline for the new project. Please review and let me know if you have any concerns. Best, Will\",\n",
        "    \"Subject:Re: Project Timeline.\tHi Will, The timeline looks good. No concerns from my side. Regards, Xena\",\n",
        "    \"Subject:Team Outing Details.\tHi Zach, Here are the details for our team outing next month. Please confirm your attendance. Thanks, Yara\",\n",
        "    \"Subject:Re: Team Outing Details.\tHi Yara, I'm looking forward to it. I'll be there. Best, Zach\",\n",
        "    \"Subject:Technical Issue Reported.\tHi Betty, We've encountered a technical issue with the server. Please look into it. Regards, Andy\",\n",
        "    \"Subject:Re: Technical Issue Reported.\tHi Andy, I'm on it. I'll update you once it's resolved. Thanks, Betty\",\n",
        "    \"Subject:Client Feedback.\tHi Donna, We've received feedback from the client regarding our recent project. Please review and take necessary action. Regards, Charles\",\n",
        "    \"Subject:Re: Client Feedback.\tHi Charles, I'll review the feedback and follow up with the client. Thanks, Donna\",\n",
        "    \"Subject:Contract Renewal.\tHi Fiona, Our contract is up for renewal next month. Please review the terms and let me know if there are any changes. Regards, Edward\",\n",
        "    \"Subject:Re: Contract Renewal.\tHi Edward, I'll review the contract and get back to you by the end of this week. Best, Fiona\",\n",
        "    \"Subject:Sales Target Achievement.\tHi Hannah, Great news! We've achieved our sales target for this quarter. Let's keep up the good work. Regards, George\",\n",
        "    \"Subject:Re: Sales Target Achievement.\tHi George, That's fantastic news! Congratulations to the team. Best, Hannah\",\n",
        "    \"Subject:Employee Performance Review.\tHi Julie, Your performance review is scheduled for next Wednesday at 3 PM. Regards, Ian\",\n",
        "    \"Subject:Re: Employee Performance Review.\tHi Ian, Thank you for the information. I'll be there. Regards, Julie\",\n",
        "    \"Subject:Marketing Campaign Results.\tHi Leo, The results of our recent marketing campaign are in. Please review the attached report. Regards, Kate\",\n",
        "    \"Subject:Re: Marketing Campaign Results.\tHi Kate, Thanks for the report. I'll review it today. Best, Leo\",\n",
        "    \"Subject:Software Update.\tHi Nancy, We've released a new update for the software. Please make sure to install it as soon as possible. Regards, Matt\",\n",
        "    \"Subject:Re: Software Update.\tHi Matt, I'll install the update right away. Thanks for the heads-up. Best, Nancy\",\n",
        "    \"Subject:Conference Call.\tHi Patricia, We have a conference call with the client tomorrow at 3 PM. Please make sure to join. Regards, Oscar\",\n",
        "    \"Subject:Re: Conference Call.\tHi Oscar, I'll be there. Thanks for the reminder. Best, Patricia\",\n",
        "    \"Subject:Budget Approval.\tHi Robin, Can you please review and approve the budget for next quarter? Thanks, Quincy\",\n",
        "    \"Subject:Re: Budget Approval.\tHi Quincy, I've reviewed the budget and it looks good. Approved. Regards, Robin\",\n",
        "    \"Subject:Meeting Agenda.\tHi Tom, Attached is the agenda for our meeting tomorrow. Please review and let me know if you have any additions. Regards, Sophie\",\n",
        "    \"Subject:Re: Meeting Agenda.\tHi Sophie, The agenda looks good to me. No additions from my side. Best, Tom\",\n",
        "    \"Subject:Quarterly Review.\tHi Victor, Our quarterly review meeting is scheduled for next Monday. Please prepare your report. Regards, Ursula\",\n",
        "    \"Subject:Re: Quarterly Review.\tHi Ursula, I'll have my report ready by then. Thanks for the reminder. Best, Victor\",\n",
        "    \"Subject:Project Kickoff.\tHi Xander, We're kicking off the new project next week. Please prepare the necessary documents. Regards, Wendy\",\n",
        "    \"Subject:Re: Project Kickoff.\tHi Wendy, I'll have everything ready for the kickoff. Thanks, Xander\",\n",
        "    \"Subject:Sales Presentation.\tHi Zach, Please find attached the presentation for the sales meeting tomorrow. Regards, Yara\",\n",
        "    \"Subject:Re: Sales Presentation.\tHi Yara, Thanks for the presentation. I'll review it today. Best, Zach\",\n",
        "    \"Subject:Server Maintenance.\tHi Betty, We need to schedule a maintenance window for the server next week. Please suggest a suitable time. Regards, Andy\",\n",
        "    \"Subject:Re: Server Maintenance.\tHi Andy, How about next Wednesday at 8 PM? Best, Betty\",\n",
        "    \"Subject:Client Meeting.\tHi Donna, We have a meeting with the client on Thursday at 10 AM. Please be prepared with the project updates. Regards, Charles\",\n",
        "    \"Subject:Re: Client Meeting.\tHi Charles, I'll have the updates ready. Thanks for the reminder. Best, Donna\",\n",
        "    \"Subject:Training Session.\tHi Fiona, Just a reminder about the training session on Friday at 2 PM. Regards, Edward\",\n",
        "    \"Subject:Re: Training Session.\tHi Edward, Thanks for the reminder. I'll be there. Best, Fiona\",\n",
        "    \"Subject:New Hire Onboarding.\tHi Hannah, The new hire will start on Monday. Please prepare the onboarding documents. Regards, George\",\n",
        "    \"Subject:Re: New Hire Onboarding.\tHi George, I'll have everything ready for the new hire. Thanks, Hannah\",\n",
        "    \"Subject:Quarterly Sales Meeting.\tHi Julie, Our quarterly sales meeting is scheduled for next Tuesday. Please prepare your sales report. Regards, Ian\",\n",
        "    \"Subject:Re: Quarterly Sales Meeting.\tHi Ian, I'll have the report ready by then. Best, Julie\",\n",
        "    \"Subject:Market Research.\tHi Leo, I've completed the market research for the new product. Please review the attached report. Regards, Kate\",\n",
        "    \"Subject:Re: Market Research.\tHi Kate, Thanks for the report. I'll review it and get back to you. Best, Leo\",\n",
        "    \"Subject:Customer Feedback.\tHi Nancy, We've received some customer feedback about our product. Please review the attached document. Regards, Matt\",\n",
        "    \"Subject:Re: Customer Feedback.\tHi Matt, Thanks for the feedback. I'll review it and see what improvements we can make. Best, Nancy\",\n",
        "    \"Subject:Project Milestone.\tHi Patricia, We've reached an important milestone in the project. Please update the client. Regards, Oscar\",\n",
        "    \"Subject:Re: Project Milestone.\tHi Oscar, I'll update the client today. Thanks, Patricia\",\n",
        "    \"Subject:Product Feedback.\tHi Robin, We've received feedback from the beta testers. Please review and let me know your thoughts. Regards, Quincy\",\n",
        "    \"Subject:Re: Product Feedback.\tHi Quincy, I'll review the feedback and get back to you. Best, Robin\",\n",
        "    \"Subject:Press Release.\tHi Tom, Attached is the draft press release for the new product launch. Please review and provide your feedback. Regards, Sophie\",\n",
        "    \"Subject:Re: Press Release.\tHi Sophie, The draft looks good. I have no additional comments. Best, Tom\",\n",
        "    \"Subject:Team Meeting Follow-up.\tHi Victor, Just a follow-up on our team meeting. Please send your action items by end of day. Regards, Ursula\",\n",
        "    \"Subject:Re: Team Meeting Follow-up.\tHi Ursula, I'll send my action items by today. Thanks, Victor\",\n",
        "    \"Subject:Event Planning.\tHi Xander, We're planning an event for next month. Please start the preparations and keep me updated. Regards, Wendy\",\n",
        "    \"Subject:Re: Event Planning.\tHi Wendy, I'll start the preparations and update you regularly. Best, Xander\",\n",
        "    \"Subject:Product Demo.\tHi Zach, Please prepare a demo of the new product for our meeting with the client next week. Regards, Yara\",\n",
        "    \"Subject:Re: Product Demo.\tHi Yara, I'll have the demo ready for the meeting. Thanks, Zach\",\n",
        "    \"Subject:System Upgrade.\tHi Betty, We're planning a system upgrade next month. Please review the plan and let me know if you have any concerns. Regards, Andy\",\n",
        "    \"Subject:Re: System Upgrade.\tHi Andy, The plan looks good to me. No concerns from my side. Best, Betty\",\n",
        "    \"Subject:Marketing Collateral.\tHi Donna, Attached is the marketing collateral for the upcoming campaign. Please review and provide your feedback. Regards, Charles\",\n",
        "    \"Subject:Re: Marketing Collateral.\tHi Charles, The collateral looks great. No changes needed. Best, Donna\",\n",
        "    \"Subject:Meeting Reschedule.\tHi Fiona, We need to reschedule our meeting from Wednesday to Thursday. Please confirm your availability. Regards, Edward\",\n",
        "    \"Subject:Re: Meeting Reschedule.\tHi Edward, Thursday works for me. Thanks for letting me know. Best, Fiona\",\n",
        "    \"Subject:Client Follow-up.\tHi Hannah, Please follow up with the client regarding the pending invoice. Thanks, George\",\n",
        "    \"Subject:Re: Client Follow-up.\tHi George, I'll follow up with the client today. Best, Hannah\",\n",
        "    \"Subject:Performance Improvement Plan.\tHi Julie, Attached is your performance improvement plan. Please review and schedule a meeting to discuss. Regards, Ian\",\n",
        "    \"Subject:Re: Performance Improvement Plan.\tHi Ian, I'll review the plan and schedule a meeting for next week. Best, Julie\",\n",
        "    \"Subject:Client Proposal.\tHi Leo, Attached is the proposal for our new client. Please review and provide your feedback. Regards, Kate\",\n",
        "    \"Subject:Re: Client Proposal.\tHi Kate, The proposal looks good. No changes from my side. Best, Leo\",\n",
        "    \"Subject:Employee Survey.\tHi Nancy, We've received the results of the employee survey. Please review and prepare a summary. Regards, Matt\",\n",
        "    \"Subject:Re: Employee Survey.\tHi Matt, I'll prepare the summary and send it to you by end of day. Best, Nancy\",\n",
        "    \"Subject:Project Budget Adjustment.\tHi Patricia, We need to adjust the budget for the current project. Please review the attached document and provide your input. Regards, Oscar\",\n",
        "    \"Subject:Re: Project Budget Adjustment.\tHi Oscar, I'll review the document and provide my input by tomorrow. Best, Patricia\",\n",
        "    \"Subject:New Software Implementation.\tHi Robin, We're implementing new software next month. Please review the implementation plan and provide your feedback. Regards, Quincy\",\n",
        "    \"Subject:Re: New Software Implementation.\tHi Quincy, The implementation plan looks good to me. No feedback from my side. Best, Robin\"\n",
        "\n",
        "\n",
        "]\n",
        "\n",
        "# Ensure you have downloaded the required nltk data\n",
        "nltk.download('punkt')\n",
        "nltk.download('stopwords')\n",
        "\n",
        "# Load stop words\n",
        "stop_words = set(stopwords.words('english'))\n"
      ]
    },
    {
      "cell_type": "code",
      "source": [
        "# TF - Term Frequency\n",
        "vectorizer_tf = CountVectorizer()\n",
        "X_tf = vectorizer_tf.fit_transform(emails)\n",
        "df_tf = pd.DataFrame(X_tf.toarray(), columns=vectorizer_tf.get_feature_names_out())\n",
        "print(\"Term Frequency (TF):\")\n",
        "print(df_tf)\n"
      ],
      "metadata": {
        "colab": {
          "base_uri": "https://localhost:8080/"
        },
        "id": "Kq4k1CLpmBAj",
        "outputId": "a98bb8ac-2608-4ab6-da3d-f9021d05908f"
      },
      "execution_count": 2,
      "outputs": [
        {
          "output_type": "stream",
          "name": "stdout",
          "text": [
            "Term Frequency (TF):\n",
            "    10  10th  1st  able  about  achieved  achievement  action  additional  \\\n",
            "0    0     0    0     1      0         0            0       0           0   \n",
            "1    0     0    0     0      0         0            0       0           0   \n",
            "2    1     0    0     0      0         0            0       0           0   \n",
            "3    0     0    0     0      0         0            0       0           0   \n",
            "4    0     0    0     0      0         0            0       0           0   \n",
            "..  ..   ...  ...   ...    ...       ...          ...     ...         ...   \n",
            "95   0     0    0     0      0         0            0       0           0   \n",
            "96   0     0    0     0      0         0            0       0           0   \n",
            "97   0     0    0     0      0         0            0       0           0   \n",
            "98   0     0    0     0      0         0            0       0           0   \n",
            "99   0     0    0     0      0         0            0       0           0   \n",
            "\n",
            "    additions  ...  with  work  works  xander  xena  yara  yesterday  you  \\\n",
            "0           0  ...     0     0      0       0     0     0          0    1   \n",
            "1           0  ...     0     0      0       0     0     0          0    1   \n",
            "2           0  ...     0     0      0       0     0     0          0    0   \n",
            "3           0  ...     0     0      0       0     0     0          0    0   \n",
            "4           0  ...     0     0      0       0     0     0          0    1   \n",
            "..        ...  ...   ...   ...    ...     ...   ...   ...        ...  ...   \n",
            "95          0  ...     0     0      0       0     0     0          0    1   \n",
            "96          0  ...     0     0      0       0     0     0          0    0   \n",
            "97          0  ...     0     0      0       0     0     0          0    0   \n",
            "98          0  ...     0     0      0       0     0     0          0    0   \n",
            "99          0  ...     0     0      0       0     0     0          0    0   \n",
            "\n",
            "    your  zach  \n",
            "0      0     0  \n",
            "1      0     0  \n",
            "2      0     0  \n",
            "3      0     0  \n",
            "4      0     0  \n",
            "..   ...   ...  \n",
            "95     0     0  \n",
            "96     1     0  \n",
            "97     0     0  \n",
            "98     1     0  \n",
            "99     0     0  \n",
            "\n",
            "[100 rows x 317 columns]\n"
          ]
        }
      ]
    },
    {
      "cell_type": "code",
      "source": [
        "# TF-IDF\n",
        "vectorizer_tfidf = TfidfVectorizer()\n",
        "X_tfidf = vectorizer_tfidf.fit_transform(emails)\n",
        "df_tfidf = pd.DataFrame(X_tfidf.toarray(), columns=vectorizer_tfidf.get_feature_names_out())\n",
        "print(\"TF-IDF:\")\n",
        "print(df_tfidf)\n"
      ],
      "metadata": {
        "colab": {
          "base_uri": "https://localhost:8080/"
        },
        "id": "G8ITmtQimMzi",
        "outputId": "3b50ddf3-a5f8-46da-a0e4-b9302a76ffab"
      },
      "execution_count": 3,
      "outputs": [
        {
          "output_type": "stream",
          "name": "stdout",
          "text": [
            "TF-IDF:\n",
            "          10  10th  1st      able  about  achieved  achievement  action  \\\n",
            "0   0.000000   0.0  0.0  0.233115    0.0       0.0          0.0     0.0   \n",
            "1   0.000000   0.0  0.0  0.000000    0.0       0.0          0.0     0.0   \n",
            "2   0.247849   0.0  0.0  0.000000    0.0       0.0          0.0     0.0   \n",
            "3   0.000000   0.0  0.0  0.000000    0.0       0.0          0.0     0.0   \n",
            "4   0.000000   0.0  0.0  0.000000    0.0       0.0          0.0     0.0   \n",
            "..       ...   ...  ...       ...    ...       ...          ...     ...   \n",
            "95  0.000000   0.0  0.0  0.000000    0.0       0.0          0.0     0.0   \n",
            "96  0.000000   0.0  0.0  0.000000    0.0       0.0          0.0     0.0   \n",
            "97  0.000000   0.0  0.0  0.000000    0.0       0.0          0.0     0.0   \n",
            "98  0.000000   0.0  0.0  0.000000    0.0       0.0          0.0     0.0   \n",
            "99  0.000000   0.0  0.0  0.000000    0.0       0.0          0.0     0.0   \n",
            "\n",
            "    additional  additions  ...  with  work  works  xander  xena  yara  \\\n",
            "0          0.0        0.0  ...   0.0   0.0    0.0     0.0   0.0   0.0   \n",
            "1          0.0        0.0  ...   0.0   0.0    0.0     0.0   0.0   0.0   \n",
            "2          0.0        0.0  ...   0.0   0.0    0.0     0.0   0.0   0.0   \n",
            "3          0.0        0.0  ...   0.0   0.0    0.0     0.0   0.0   0.0   \n",
            "4          0.0        0.0  ...   0.0   0.0    0.0     0.0   0.0   0.0   \n",
            "..         ...        ...  ...   ...   ...    ...     ...   ...   ...   \n",
            "95         0.0        0.0  ...   0.0   0.0    0.0     0.0   0.0   0.0   \n",
            "96         0.0        0.0  ...   0.0   0.0    0.0     0.0   0.0   0.0   \n",
            "97         0.0        0.0  ...   0.0   0.0    0.0     0.0   0.0   0.0   \n",
            "98         0.0        0.0  ...   0.0   0.0    0.0     0.0   0.0   0.0   \n",
            "99         0.0        0.0  ...   0.0   0.0    0.0     0.0   0.0   0.0   \n",
            "\n",
            "    yesterday       you      your  zach  \n",
            "0         0.0  0.126489  0.000000   0.0  \n",
            "1         0.0  0.160473  0.000000   0.0  \n",
            "2         0.0  0.000000  0.000000   0.0  \n",
            "3         0.0  0.000000  0.000000   0.0  \n",
            "4         0.0  0.163110  0.000000   0.0  \n",
            "..        ...       ...       ...   ...  \n",
            "95        0.0  0.186266  0.000000   0.0  \n",
            "96        0.0  0.000000  0.149863   0.0  \n",
            "97        0.0  0.000000  0.000000   0.0  \n",
            "98        0.0  0.000000  0.146501   0.0  \n",
            "99        0.0  0.000000  0.000000   0.0  \n",
            "\n",
            "[100 rows x 317 columns]\n"
          ]
        }
      ]
    },
    {
      "cell_type": "code",
      "source": [
        "# Word Count (similar to TF)\n",
        "vectorizer_wc = CountVectorizer()\n",
        "X_wc = vectorizer_wc.fit_transform(emails)\n",
        "df_wc = pd.DataFrame(X_wc.toarray(), columns=vectorizer_wc.get_feature_names_out())\n",
        "print(\"Word Count:\")\n",
        "print(df_wc)\n"
      ],
      "metadata": {
        "colab": {
          "base_uri": "https://localhost:8080/"
        },
        "id": "ecZkFjN4mh1s",
        "outputId": "227d554c-6ab8-4a70-9a75-8ccfc1b82ac5"
      },
      "execution_count": 4,
      "outputs": [
        {
          "output_type": "stream",
          "name": "stdout",
          "text": [
            "Word Count:\n",
            "    10  10th  1st  able  about  achieved  achievement  action  additional  \\\n",
            "0    0     0    0     1      0         0            0       0           0   \n",
            "1    0     0    0     0      0         0            0       0           0   \n",
            "2    1     0    0     0      0         0            0       0           0   \n",
            "3    0     0    0     0      0         0            0       0           0   \n",
            "4    0     0    0     0      0         0            0       0           0   \n",
            "..  ..   ...  ...   ...    ...       ...          ...     ...         ...   \n",
            "95   0     0    0     0      0         0            0       0           0   \n",
            "96   0     0    0     0      0         0            0       0           0   \n",
            "97   0     0    0     0      0         0            0       0           0   \n",
            "98   0     0    0     0      0         0            0       0           0   \n",
            "99   0     0    0     0      0         0            0       0           0   \n",
            "\n",
            "    additions  ...  with  work  works  xander  xena  yara  yesterday  you  \\\n",
            "0           0  ...     0     0      0       0     0     0          0    1   \n",
            "1           0  ...     0     0      0       0     0     0          0    1   \n",
            "2           0  ...     0     0      0       0     0     0          0    0   \n",
            "3           0  ...     0     0      0       0     0     0          0    0   \n",
            "4           0  ...     0     0      0       0     0     0          0    1   \n",
            "..        ...  ...   ...   ...    ...     ...   ...   ...        ...  ...   \n",
            "95          0  ...     0     0      0       0     0     0          0    1   \n",
            "96          0  ...     0     0      0       0     0     0          0    0   \n",
            "97          0  ...     0     0      0       0     0     0          0    0   \n",
            "98          0  ...     0     0      0       0     0     0          0    0   \n",
            "99          0  ...     0     0      0       0     0     0          0    0   \n",
            "\n",
            "    your  zach  \n",
            "0      0     0  \n",
            "1      0     0  \n",
            "2      0     0  \n",
            "3      0     0  \n",
            "4      0     0  \n",
            "..   ...   ...  \n",
            "95     0     0  \n",
            "96     1     0  \n",
            "97     0     0  \n",
            "98     1     0  \n",
            "99     0     0  \n",
            "\n",
            "[100 rows x 317 columns]\n"
          ]
        }
      ]
    },
    {
      "cell_type": "code",
      "source": [
        "import pandas as pd\n",
        "from sklearn.feature_extraction.text import CountVectorizer\n",
        "from sklearn.preprocessing import normalize\n",
        "\n",
        "# Vectorize the emails using CountVectorizer\n",
        "vectorizer_wc = CountVectorizer()\n",
        "X_wc = vectorizer_wc.fit_transform(emails)\n",
        "\n",
        "# Convert the sparse matrix to a DataFrame\n",
        "df_wc = pd.DataFrame(X_wc.toarray(), columns=vectorizer_wc.get_feature_names_out())\n",
        "\n",
        "# Normalize the DataFrame\n",
        "df_normalized = pd.DataFrame(normalize(df_wc, axis=0), columns=vectorizer_wc.get_feature_names_out())\n",
        "\n",
        "print(\"Normalized Data:\")\n",
        "print(df_normalized)\n",
        "\n"
      ],
      "metadata": {
        "colab": {
          "base_uri": "https://localhost:8080/"
        },
        "id": "OVA7JtApnZ4M",
        "outputId": "ffc83521-1ca2-44c1-f548-65e30ee068bd"
      },
      "execution_count": 6,
      "outputs": [
        {
          "output_type": "stream",
          "name": "stdout",
          "text": [
            "Normalized Data:\n",
            "          10  10th  1st  able  about  achieved  achievement  action  \\\n",
            "0   0.000000   0.0  0.0   1.0    0.0       0.0          0.0     0.0   \n",
            "1   0.000000   0.0  0.0   0.0    0.0       0.0          0.0     0.0   \n",
            "2   0.707107   0.0  0.0   0.0    0.0       0.0          0.0     0.0   \n",
            "3   0.000000   0.0  0.0   0.0    0.0       0.0          0.0     0.0   \n",
            "4   0.000000   0.0  0.0   0.0    0.0       0.0          0.0     0.0   \n",
            "..       ...   ...  ...   ...    ...       ...          ...     ...   \n",
            "95  0.000000   0.0  0.0   0.0    0.0       0.0          0.0     0.0   \n",
            "96  0.000000   0.0  0.0   0.0    0.0       0.0          0.0     0.0   \n",
            "97  0.000000   0.0  0.0   0.0    0.0       0.0          0.0     0.0   \n",
            "98  0.000000   0.0  0.0   0.0    0.0       0.0          0.0     0.0   \n",
            "99  0.000000   0.0  0.0   0.0    0.0       0.0          0.0     0.0   \n",
            "\n",
            "    additional  additions  ...  with  work  works  xander  xena  yara  \\\n",
            "0          0.0        0.0  ...   0.0   0.0    0.0     0.0   0.0   0.0   \n",
            "1          0.0        0.0  ...   0.0   0.0    0.0     0.0   0.0   0.0   \n",
            "2          0.0        0.0  ...   0.0   0.0    0.0     0.0   0.0   0.0   \n",
            "3          0.0        0.0  ...   0.0   0.0    0.0     0.0   0.0   0.0   \n",
            "4          0.0        0.0  ...   0.0   0.0    0.0     0.0   0.0   0.0   \n",
            "..         ...        ...  ...   ...   ...    ...     ...   ...   ...   \n",
            "95         0.0        0.0  ...   0.0   0.0    0.0     0.0   0.0   0.0   \n",
            "96         0.0        0.0  ...   0.0   0.0    0.0     0.0   0.0   0.0   \n",
            "97         0.0        0.0  ...   0.0   0.0    0.0     0.0   0.0   0.0   \n",
            "98         0.0        0.0  ...   0.0   0.0    0.0     0.0   0.0   0.0   \n",
            "99         0.0        0.0  ...   0.0   0.0    0.0     0.0   0.0   0.0   \n",
            "\n",
            "    yesterday       you      your  zach  \n",
            "0         0.0  0.235702  0.000000   0.0  \n",
            "1         0.0  0.235702  0.000000   0.0  \n",
            "2         0.0  0.000000  0.000000   0.0  \n",
            "3         0.0  0.000000  0.000000   0.0  \n",
            "4         0.0  0.235702  0.000000   0.0  \n",
            "..        ...       ...       ...   ...  \n",
            "95        0.0  0.235702  0.000000   0.0  \n",
            "96        0.0  0.000000  0.229416   0.0  \n",
            "97        0.0  0.000000  0.000000   0.0  \n",
            "98        0.0  0.000000  0.229416   0.0  \n",
            "99        0.0  0.000000  0.000000   0.0  \n",
            "\n",
            "[100 rows x 317 columns]\n"
          ]
        }
      ]
    },
    {
      "cell_type": "code",
      "source": [
        "import pandas as pd\n",
        "from sklearn.feature_extraction.text import CountVectorizer\n",
        "from nltk.corpus import stopwords\n",
        "import nltk\n",
        "\n",
        "# Ensure you have downloaded the required nltk data\n",
        "nltk.download('stopwords')\n",
        "\n",
        "# Load stop words\n",
        "stop_words = set(stopwords.words('english'))\n",
        "\n",
        "# Convert the set to a list\n",
        "stop_words_list = list(stop_words)\n",
        "\n",
        "# Stop Word Handling\n",
        "vectorizer_sw = CountVectorizer(stop_words=stop_words_list)\n",
        "X_sw = vectorizer_sw.fit_transform(emails)\n",
        "df_sw = pd.DataFrame(X_sw.toarray(), columns=vectorizer_sw.get_feature_names_out())\n",
        "print(\"Stop Word Handling:\")\n",
        "print(df_sw)\n",
        "\n"
      ],
      "metadata": {
        "colab": {
          "base_uri": "https://localhost:8080/"
        },
        "id": "l7dq0wswn-EI",
        "outputId": "57ed2169-9b12-443f-baec-065713a1c9d8"
      },
      "execution_count": 8,
      "outputs": [
        {
          "output_type": "stream",
          "name": "stdout",
          "text": [
            "Stop Word Handling:\n",
            "    10  10th  1st  able  achieved  achievement  action  additional  additions  \\\n",
            "0    0     0    0     1         0            0       0           0          0   \n",
            "1    0     0    0     0         0            0       0           0          0   \n",
            "2    1     0    0     0         0            0       0           0          0   \n",
            "3    0     0    0     0         0            0       0           0          0   \n",
            "4    0     0    0     0         0            0       0           0          0   \n",
            "..  ..   ...  ...   ...       ...          ...     ...         ...        ...   \n",
            "95   0     0    0     0         0            0       0           0          0   \n",
            "96   0     0    0     0         0            0       0           0          0   \n",
            "97   0     0    0     0         0            0       0           0          0   \n",
            "98   0     0    0     0         0            0       0           0          0   \n",
            "99   0     0    0     0         0            0       0           0          0   \n",
            "\n",
            "    adjust  ...  well  wendy  window  work  works  xander  xena  yara  \\\n",
            "0        0  ...     0      0       0     0      0       0     0     0   \n",
            "1        0  ...     0      0       0     0      0       0     0     0   \n",
            "2        0  ...     0      0       0     0      0       0     0     0   \n",
            "3        0  ...     0      0       0     0      0       0     0     0   \n",
            "4        0  ...     0      0       0     0      0       0     0     0   \n",
            "..     ...  ...   ...    ...     ...   ...    ...     ...   ...   ...   \n",
            "95       0  ...     0      0       0     0      0       0     0     0   \n",
            "96       1  ...     0      0       0     0      0       0     0     0   \n",
            "97       0  ...     0      0       0     0      0       0     0     0   \n",
            "98       0  ...     0      0       0     0      0       0     0     0   \n",
            "99       0  ...     0      0       0     0      0       0     0     0   \n",
            "\n",
            "    yesterday  zach  \n",
            "0           0     0  \n",
            "1           0     0  \n",
            "2           0     0  \n",
            "3           0     0  \n",
            "4           0     0  \n",
            "..        ...   ...  \n",
            "95          0     0  \n",
            "96          0     0  \n",
            "97          0     0  \n",
            "98          0     0  \n",
            "99          0     0  \n",
            "\n",
            "[100 rows x 268 columns]\n"
          ]
        },
        {
          "output_type": "stream",
          "name": "stderr",
          "text": [
            "[nltk_data] Downloading package stopwords to /root/nltk_data...\n",
            "[nltk_data]   Package stopwords is already up-to-date!\n"
          ]
        }
      ]
    },
    {
      "cell_type": "code",
      "source": [
        "# Stemming\n",
        "ps = PorterStemmer()\n",
        "\n",
        "def stem_text(text):\n",
        "    tokens = word_tokenize(text)\n",
        "    stemmed_tokens = [ps.stem(word) for word in tokens if word.isalpha()]\n",
        "    return ' '.join(stemmed_tokens)\n",
        "\n",
        "emails_stemmed = [stem_text(email) for email in emails]\n",
        "vectorizer_stem = CountVectorizer()\n",
        "X_stem = vectorizer_stem.fit_transform(emails_stemmed)\n",
        "df_stem = pd.DataFrame(X_stem.toarray(), columns=vectorizer_stem.get_feature_names_out())\n",
        "print(\"Stemming:\")\n",
        "print(df_stem)\n"
      ],
      "metadata": {
        "colab": {
          "base_uri": "https://localhost:8080/"
        },
        "id": "bQHn6v4yofPq",
        "outputId": "6ce5dd38-d6ac-4172-85ee-f4f93f6873f7"
      },
      "execution_count": 9,
      "outputs": [
        {
          "output_type": "stream",
          "name": "stdout",
          "text": [
            "Stemming:\n",
            "    abl  about  achiev  action  addit  adjust  agenda  alic  am  an  ...  \\\n",
            "0     1      0       0       0      0       0       0     0   0   0  ...   \n",
            "1     0      0       0       0      0       0       0     0   0   0  ...   \n",
            "2     0      0       0       0      0       0       0     0   1   0  ...   \n",
            "3     0      0       0       0      0       0       0     0   0   0  ...   \n",
            "4     0      0       0       0      0       0       0     1   0   0  ...   \n",
            "..  ...    ...     ...     ...    ...     ...     ...   ...  ..  ..  ...   \n",
            "95    0      0       0       0      0       0       0     0   0   0  ...   \n",
            "96    0      0       0       0      0       2       0     0   0   0  ...   \n",
            "97    0      0       0       0      0       1       0     0   0   0  ...   \n",
            "98    0      0       0       0      0       0       0     0   0   0  ...   \n",
            "99    0      0       0       0      0       0       0     0   0   0  ...   \n",
            "\n",
            "    window  with  work  xander  xena  yara  yesterday  you  your  zach  \n",
            "0        0     0     0       0     0     0          0    1     0     0  \n",
            "1        0     0     0       0     0     0          0    1     0     0  \n",
            "2        0     0     0       0     0     0          0    0     0     0  \n",
            "3        0     0     0       0     0     0          0    0     0     0  \n",
            "4        0     0     0       0     0     0          0    1     0     0  \n",
            "..     ...   ...   ...     ...   ...   ...        ...  ...   ...   ...  \n",
            "95       0     0     0       0     0     0          0    1     0     0  \n",
            "96       0     0     0       0     0     0          0    0     1     0  \n",
            "97       0     0     0       0     0     0          0    0     0     0  \n",
            "98       0     0     0       0     0     0          0    0     1     0  \n",
            "99       0     0     0       0     0     0          0    0     0     0  \n",
            "\n",
            "[100 rows x 283 columns]\n"
          ]
        }
      ]
    },
    {
      "cell_type": "code",
      "source": [
        "# Custom Tokenizer\n",
        "def custom_tokenizer(text):\n",
        "    return word_tokenize(text.lower())\n",
        "\n",
        "vectorizer_token = CountVectorizer(tokenizer=custom_tokenizer)\n",
        "X_token = vectorizer_token.fit_transform(emails)\n",
        "df_token = pd.DataFrame(X_token.toarray(), columns=vectorizer_token.get_feature_names_out())\n",
        "print(\"Custom Tokenizer:\")\n",
        "print(df_token)\n"
      ],
      "metadata": {
        "colab": {
          "base_uri": "https://localhost:8080/"
        },
        "id": "lGrqG-XkosPn",
        "outputId": "0e265b63-2f55-4448-a890-3bec0d51a392"
      },
      "execution_count": 10,
      "outputs": [
        {
          "output_type": "stream",
          "name": "stdout",
          "text": [
            "Custom Tokenizer:\n",
            "    !  'd  'll  'm  're  's  've  ,  .  10  ...  with  work  works  xander  \\\n",
            "0   0   0    0   0    1   0    0  2  3   0  ...     0     0      0       0   \n",
            "1   0   0    0   0    0   1    0  2  4   0  ...     0     0      0       0   \n",
            "2   0   0    0   0    0   0    0  2  3   1  ...     0     0      0       0   \n",
            "3   0   0    1   0    0   0    0  2  3   0  ...     0     0      0       0   \n",
            "4   0   0    0   0    0   0    0  2  3   0  ...     0     0      0       0   \n",
            ".. ..  ..  ...  ..  ...  ..  ... .. ..  ..  ...   ...   ...    ...     ...   \n",
            "95  0   0    1   0    0   0    0  2  2   0  ...     0     0      0       0   \n",
            "96  0   0    0   0    0   0    0  2  3   0  ...     0     0      0       0   \n",
            "97  0   0    1   0    0   0    0  2  2   0  ...     0     0      0       0   \n",
            "98  0   0    0   0    1   0    0  2  3   0  ...     0     0      0       0   \n",
            "99  0   0    0   0    0   0    0  2  3   0  ...     0     0      0       0   \n",
            "\n",
            "    xena  yara  yesterday  you  your  zach  \n",
            "0      0     0          0    1     0     0  \n",
            "1      0     0          0    1     0     0  \n",
            "2      0     0          0    0     0     0  \n",
            "3      0     0          0    0     0     0  \n",
            "4      0     0          0    1     0     0  \n",
            "..   ...   ...        ...  ...   ...   ...  \n",
            "95     0     0          0    1     0     0  \n",
            "96     0     0          0    0     1     0  \n",
            "97     0     0          0    0     0     0  \n",
            "98     0     0          0    0     1     0  \n",
            "99     0     0          0    0     0     0  \n",
            "\n",
            "[100 rows x 332 columns]\n"
          ]
        },
        {
          "output_type": "stream",
          "name": "stderr",
          "text": [
            "/usr/local/lib/python3.10/dist-packages/sklearn/feature_extraction/text.py:525: UserWarning: The parameter 'token_pattern' will not be used since 'tokenizer' is not None'\n",
            "  warnings.warn(\n"
          ]
        }
      ]
    },
    {
      "cell_type": "code",
      "source": [
        "from sklearn.cluster import KMeans\n",
        "from sklearn.mixture import GaussianMixture\n",
        "\n",
        "# Use normalized data for clustering\n",
        "data = df_normalized\n",
        "\n",
        "# KMeans Clustering\n",
        "kmeans = KMeans(n_clusters=2, random_state=42)\n",
        "kmeans_labels = kmeans.fit_predict(data)\n",
        "print(\"KMeans Clustering Labels:\")\n",
        "print(kmeans_labels)\n",
        "\n",
        "# EM Clustering\n",
        "gmm = GaussianMixture(n_components=2, random_state=42)\n",
        "gmm_labels = gmm.fit_predict(data)\n",
        "print(\"EM Clustering Labels:\")\n",
        "print(gmm_labels)\n"
      ],
      "metadata": {
        "colab": {
          "base_uri": "https://localhost:8080/"
        },
        "id": "IFN-YoSTo695",
        "outputId": "9d81f186-575c-4ab5-9671-815b6a7601b4"
      },
      "execution_count": 11,
      "outputs": [
        {
          "output_type": "stream",
          "name": "stderr",
          "text": [
            "/usr/local/lib/python3.10/dist-packages/sklearn/cluster/_kmeans.py:1416: FutureWarning: The default value of `n_init` will change from 10 to 'auto' in 1.4. Set the value of `n_init` explicitly to suppress the warning\n",
            "  super()._check_params_vs_input(X, default_n_init=10)\n"
          ]
        },
        {
          "output_type": "stream",
          "name": "stdout",
          "text": [
            "KMeans Clustering Labels:\n",
            "[1 0 0 0 0 0 0 0 0 0 0 0 0 0 0 0 0 0 0 0 0 0 0 0 0 0 0 0 0 0 0 0 0 0 0 0 0\n",
            " 0 0 0 0 0 0 0 0 0 0 0 0 0 0 0 0 0 0 0 0 0 0 0 0 0 0 0 0 0 0 0 0 0 0 0 0 0\n",
            " 0 0 0 0 0 0 0 0 0 0 0 0 0 0 0 0 0 0 0 0 0 0 0 0 0 0]\n",
            "EM Clustering Labels:\n",
            "[1 1 1 1 1 1 1 1 1 1 1 1 1 1 1 1 1 1 1 1 1 1 1 1 1 1 1 1 1 1 1 1 1 1 1 1 0\n",
            " 0 1 1 1 1 1 1 1 1 1 1 1 1 1 1 1 1 1 1 1 1 1 1 1 1 1 1 1 1 1 1 1 1 1 1 1 1\n",
            " 1 1 1 1 1 1 1 1 1 1 1 1 1 1 1 1 1 1 1 1 1 1 1 1 1 1]\n"
          ]
        }
      ]
    },
    {
      "cell_type": "code",
      "source": [
        "# Add cluster labels to the dataframe\n",
        "df_normalized['KMeans_Labels'] = kmeans_labels\n",
        "df_normalized['EM_Labels'] = gmm_labels\n",
        "\n",
        "# Summarize clusters\n",
        "print(\"Cluster Summary - KMeans:\")\n",
        "print(df_normalized.groupby('KMeans_Labels').mean())\n",
        "\n",
        "print(\"Cluster Summary - EM:\")\n",
        "print(df_normalized.groupby('EM_Labels').mean())\n"
      ],
      "metadata": {
        "colab": {
          "base_uri": "https://localhost:8080/"
        },
        "id": "BZ11xHx2o9fZ",
        "outputId": "7583fa23-ea4c-40bd-88b3-27cbacca9cf7"
      },
      "execution_count": 12,
      "outputs": [
        {
          "output_type": "stream",
          "name": "stdout",
          "text": [
            "Cluster Summary - KMeans:\n",
            "                     10      10th       1st  able     about  achieved  \\\n",
            "KMeans_Labels                                                           \n",
            "0              0.014285  0.010101  0.010101   0.0  0.017495  0.010101   \n",
            "1              0.000000  0.000000  0.000000   1.0  0.000000  0.000000   \n",
            "\n",
            "               achievement    action  additional  additions  ...      work  \\\n",
            "KMeans_Labels                                                ...             \n",
            "0                 0.014285  0.017495    0.010101   0.014285  ...  0.010101   \n",
            "1                 0.000000  0.000000    0.000000   0.000000  ...  0.000000   \n",
            "\n",
            "                  works    xander      xena      yara  yesterday       you  \\\n",
            "KMeans_Labels                                                                \n",
            "0              0.010101  0.020202  0.014285  0.024742   0.010101  0.040474   \n",
            "1              0.000000  0.000000  0.000000  0.000000   0.000000  0.235702   \n",
            "\n",
            "                   your      zach  EM_Labels  \n",
            "KMeans_Labels                                 \n",
            "0              0.044029  0.024742   0.979798  \n",
            "1              0.000000  0.000000   1.000000  \n",
            "\n",
            "[2 rows x 318 columns]\n",
            "Cluster Summary - EM:\n",
            "                 10      10th       1st      able     about  achieved  \\\n",
            "EM_Labels                                                               \n",
            "0          0.000000  0.000000  0.000000  0.000000  0.000000       0.5   \n",
            "1          0.014431  0.010204  0.010204  0.010204  0.017674       0.0   \n",
            "\n",
            "           achievement    action  additional  additions  ...  work     works  \\\n",
            "EM_Labels                                                ...                   \n",
            "0             0.707107  0.000000    0.000000   0.000000  ...   0.5  0.000000   \n",
            "1             0.000000  0.017674    0.010204   0.014431  ...   0.0  0.010204   \n",
            "\n",
            "             xander      xena      yara  yesterday       you      your  \\\n",
            "EM_Labels                                                                \n",
            "0          0.000000  0.000000  0.000000   0.000000  0.000000  0.000000   \n",
            "1          0.020408  0.014431  0.024995   0.010204  0.043292  0.044479   \n",
            "\n",
            "               zach  KMeans_Labels  \n",
            "EM_Labels                           \n",
            "0          0.000000       0.000000  \n",
            "1          0.024995       0.010204  \n",
            "\n",
            "[2 rows x 318 columns]\n"
          ]
        }
      ]
    }
  ]
}